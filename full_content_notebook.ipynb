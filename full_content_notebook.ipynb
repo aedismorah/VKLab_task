{
  "cells": [
    {
      "cell_type": "markdown",
      "metadata": {
        "id": "drieFpTMV-LV"
      },
      "source": [
        "## Gather data, turn markup into vectors and check its correctness"
      ]
    },
    {
      "cell_type": "markdown",
      "metadata": {
        "id": "D39WaKuBP2zO"
      },
      "source": [
        "Download Dataset"
      ]
    },
    {
      "cell_type": "code",
      "execution_count": 4,
      "metadata": {
        "id": "sp2vUrdFV_eC"
      },
      "outputs": [],
      "source": [
        "!wget https://www.openslr.org/resources/12/train-clean-100.tar.gz &> /dev/null\n",
        "!tar -xvf train-clean-100.tar.gz &> /dev/null && rm train-clean-100.tar.gz"
      ]
    },
    {
      "cell_type": "markdown",
      "metadata": {
        "id": "e39FhnlIWOgC"
      },
      "source": [
        "Download Markup"
      ]
    },
    {
      "cell_type": "code",
      "execution_count": 5,
      "metadata": {
        "id": "yTn-4NKzV9Il",
        "colab": {
          "base_uri": "https://localhost:8080/"
        },
        "outputId": "8af16915-f56a-47d8-b485-c798bad3e143"
      },
      "outputs": [
        {
          "output_type": "stream",
          "name": "stdout",
          "text": [
            "Downloading...\n",
            "From: https://drive.google.com/uc?id=1G7O_QeKXK-gBmg-9u6B3LezXipCSSsiN\n",
            "To: /content/train-clean-100.zip\n",
            "\r  0% 0.00/6.10M [00:00<?, ?B/s]\r100% 6.10M/6.10M [00:00<00:00, 169MB/s]\n"
          ]
        }
      ],
      "source": [
        "!gdown --id 1G7O_QeKXK-gBmg-9u6B3LezXipCSSsiN\n",
        "!unzip train-clean-100.zip &> /dev/null\n",
        "!rm -rf __MACOSX &> /dev/null"
      ]
    },
    {
      "cell_type": "code",
      "execution_count": 6,
      "metadata": {
        "id": "ZHNddBL-Y0fq"
      },
      "outputs": [],
      "source": [
        "import os\n",
        "import re\n",
        "import numpy as np\n",
        "import torch\n",
        "import torchaudio\n",
        "from tqdm import tqdm\n",
        "from IPython.utils import io\n",
        "from matplotlib import pyplot as plt\n",
        "\n",
        "from torch.utils.data import Dataset\n",
        "from torch.utils.data import DataLoader"
      ]
    },
    {
      "cell_type": "markdown",
      "metadata": {
        "id": "9kpMtT0nOAQk"
      },
      "source": [
        "Gather all the available alignments"
      ]
    },
    {
      "cell_type": "code",
      "execution_count": 7,
      "metadata": {
        "id": "TcPkpsmpZPAo"
      },
      "outputs": [],
      "source": [
        "train_label_path = 'train-clean-100/'\n",
        "\n",
        "train_label_files = []\n",
        "for root, _, files in os.walk(train_label_path):\n",
        "    train_label_files.extend([os.path.join(root, file) for file in files if '.txt' in file])"
      ]
    },
    {
      "cell_type": "markdown",
      "metadata": {
        "id": "xN4axASwOL1L"
      },
      "source": [
        "Create a dict where key is speaker id and value is audio filename and a string with words and their pronounciation times"
      ]
    },
    {
      "cell_type": "code",
      "execution_count": 8,
      "metadata": {
        "id": "0Lw_VBObbiLx"
      },
      "outputs": [],
      "source": [
        "train_data = dict()\n",
        "\n",
        "for file in train_label_files:\n",
        "    key = re.findall('\\d+-\\d+', file)[0]\n",
        "\n",
        "    label_lines = data=open(file, 'r').readlines()\n",
        "    n_input_files = len(label_lines)\n",
        "\n",
        "    indices = list(map(lambda x: x.split(' ')[0], label_lines))\n",
        "    base_input_path = os.path.join('LibriSpeech', re.findall('\\w+-\\w+-\\w+/\\d+/\\d+', file)[0])\n",
        "    input_files = list(map(lambda x: os.path.join(base_input_path, f'{x}.flac'), indices))\n",
        "\n",
        "    train_data[key] = {'input': tuple(sorted(input_files)),\n",
        "                       'label': tuple(sorted(label_lines))}"
      ]
    },
    {
      "cell_type": "markdown",
      "metadata": {
        "id": "vBzkuOwzOiJu"
      },
      "source": [
        "A function to turn a string into a vector of labels.\n",
        "<br>Sometimes the rounding may create an array with bigger size than intended so we cut it by N = audio_len_in_ms / 10.\n",
        "<br>It happens rarely so it is not crucial for evaluation, but learning process crash due to array mismatch is unpeasant so I did what i had to."
      ]
    },
    {
      "cell_type": "code",
      "execution_count": 9,
      "metadata": {
        "id": "09dE4VVjmrdo"
      },
      "outputs": [],
      "source": [
        "def process_label(input, label):\n",
        "    words_and_pauses = label.split(' ')[1]\n",
        "    classify = lambda x: 0 if (x == '\"' or x == '') else 1\n",
        "    words_and_pauses = [classify(token) for token in words_and_pauses.split(',')]\n",
        "\n",
        "    time_intervals = label.split(' ')[2]\n",
        "    time_intervals = time_intervals.replace('\"', '')\n",
        "    n_time_from_start = [0] + [round(float(interval) * 100) for interval in time_intervals.split(',')]\n",
        "    n_intervals_from_start = [n_time_from_start[i + 1] - n_time_from_start[i] for i in range(len(n_time_from_start) - 1)]\n",
        "    \n",
        "    label_vector = [torch.tensor([class_label] * interval) for class_label, interval in zip(words_and_pauses, n_intervals_from_start)]\n",
        "    N = int(len(input) / sample_rate * 1000 / 10)\n",
        "\n",
        "    return torch.cat(label_vector)[:N]"
      ]
    },
    {
      "cell_type": "markdown",
      "metadata": {
        "id": "l5kTI27VPeys"
      },
      "source": [
        "Lets plot that labels that we created to check adequacy of alignment"
      ]
    },
    {
      "cell_type": "code",
      "execution_count": 10,
      "metadata": {
        "id": "5AsbrXyuuZj3"
      },
      "outputs": [],
      "source": [
        "sample_rate = 16000\n",
        "pairs = list(zip(train_data[key]['input'], train_data[key]['label']))\n",
        "filename = pairs[1][0]\n",
        "waveform, sample_rate = torchaudio.load(filename)\n",
        "mask = process_label(waveform.squeeze(), pairs[1][1])"
      ]
    },
    {
      "cell_type": "code",
      "execution_count": 11,
      "metadata": {
        "id": "J6RhJvt6zcWd"
      },
      "outputs": [],
      "source": [
        "plt.rcParams[\"figure.figsize\"] = (20, 12)\n",
        "\n",
        "def draw_mask(mask, amplitude):\n",
        "    mask = torch.tensor(mask, dtype=torch.int16)\n",
        "    ### upper side of plot\n",
        "    plt.plot(torch.arange(len(mask)) * 160, mask * amplitude, color='lightgreen')\n",
        "    plt.fill_between(torch.arange(len(mask)) * 160, amplitude, mask * amplitude, facecolor='red', alpha=0.3)\n",
        "    plt.fill_between(torch.arange(len(mask)) * 160, 0, mask * amplitude, facecolor='lightgreen', alpha=0.3)\n",
        "    ### lower side of plot\n",
        "    plt.plot(torch.arange(len(mask)) * 160, -mask * amplitude, color='lightgreen')\n",
        "    plt.fill_between(torch.arange(len(mask)) * 160, -amplitude, -mask * amplitude, facecolor='red', alpha=0.3)\n",
        "    plt.fill_between(torch.arange(len(mask)) * 160, 0, -mask * amplitude, facecolor='lightgreen', alpha=0.3)\n",
        "\n",
        "def draw_waveform(waveform):\n",
        "    plt.plot(torch.arange(len(waveform.squeeze())), waveform.squeeze(), color='blue')"
      ]
    },
    {
      "cell_type": "code",
      "execution_count": 12,
      "metadata": {
        "colab": {
          "base_uri": "https://localhost:8080/",
          "height": 576
        },
        "id": "ovXxZBNktV_h",
        "outputId": "aa01bf50-8d4f-43fd-9654-9887f0ddfac0"
      },
      "outputs": [
        {
          "output_type": "stream",
          "name": "stderr",
          "text": [
            "/usr/local/lib/python3.7/dist-packages/ipykernel_launcher.py:4: UserWarning: To copy construct from a tensor, it is recommended to use sourceTensor.clone().detach() or sourceTensor.clone().detach().requires_grad_(True), rather than torch.tensor(sourceTensor).\n",
            "  after removing the cwd from sys.path.\n"
          ]
        },
        {
          "output_type": "display_data",
          "data": {
            "image/png": "[encoded data removed]",
            "text/plain": [
              "<Figure size 1440x864 with 1 Axes>"
            ]
          },
          "metadata": {
            "needs_background": "light"
          }
        }
      ],
      "source": [
        "draw_mask(mask, max(waveform.squeeze()))\n",
        "draw_waveform(waveform)\n",
        "plt.show()"
      ]
    },
    {
      "cell_type": "markdown",
      "metadata": {
        "id": "TCg2ecOuP-MJ"
      },
      "source": [
        "## Create dataloader from gathered data"
      ]
    },
    {
      "cell_type": "markdown",
      "metadata": {
        "id": "JaFl0MFKQua6"
      },
      "source": [
        "split signal in chunks of 10ms size"
      ]
    },
    {
      "cell_type": "code",
      "execution_count": 13,
      "metadata": {
        "id": "ZwFbem-Gv3Ko"
      },
      "outputs": [],
      "source": [
        "def split_signal(signal, format='tensor', sample_rate=16000, duration=10):\n",
        "    N = int(len(signal) / sample_rate * 1000 / duration)\n",
        "    chunk_size = int(sample_rate * 10 / 1000)\n",
        "    splitted_signal = [signal[i*chunk_size: (i+1)*chunk_size] for i in range(N)]\n",
        "    if format == 'uint_16_bytes':\n",
        "        to_16_bit = lambda x: torch.tensor(x * 2**15, dtype=torch.int16)\n",
        "        splitted_signal = [to_16_bit(chunk).numpy().tobytes() for chunk in splitted_signal]\n",
        "    return splitted_signal"
      ]
    },
    {
      "cell_type": "code",
      "source": [
        "class LibriSpeechDataset(Dataset):\n",
        "    def __init__(self, train_data, window_size=2):\n",
        "        self.window_size = window_size\n",
        "\n",
        "        self.inputs = []\n",
        "        self.labels = []\n",
        "        for value in train_data.values():\n",
        "            self.inputs.extend(value['input'])\n",
        "            self.labels.extend(value['label'])\n",
        "\n",
        "    def __getitem__(self, item):\n",
        "        input, _ = torchaudio.load(self.inputs[item])\n",
        "        input = input.flatten()\n",
        "        hmm_input = input\n",
        "        \n",
        "        splitted_signal = split_signal(input)\n",
        "        webrtc_input = split_signal(input, 'uint_16_bytes')\n",
        "        \n",
        "        padding_chunk = torch.zeros(sample_rate // 100)\n",
        "        padding = [padding_chunk for _ in range(self.window_size)]\n",
        "        splitted_signal = padding + splitted_signal + padding\n",
        "        chunks = []\n",
        "        for idx in range(self.window_size, len(splitted_signal) - self.window_size):\n",
        "            chunks.append(torch.cat(splitted_signal[idx - self.window_size: idx + (self.window_size + 1)]))\n",
        "        batch = torch.stack(chunks)\n",
        "        batch = torch.cat([\n",
        "            batch,\n",
        "            torch.view_as_real(torch.fft.fft(batch))[:, :, 0],\n",
        "            torch.view_as_real(torch.fft.fft(batch))[:, :, 1]\n",
        "        ], dim=-1)\n",
        "        batch = torch.tensor(batch, dtype=torch.float)\n",
        "        model_input = batch\n",
        "\n",
        "        label = process_label(input, self.labels[item]).flatten()\n",
        "        label = torch.tensor(label, dtype=torch.long)\n",
        "        \n",
        "        return {'webrtc_input': webrtc_input, 'hmm_input': hmm_input, 'model_input': model_input, 'label': label}\n",
        "\n",
        "    def __len__(self):\n",
        "        return len(self.labels)\n",
        "\n",
        "keys = list(np.random.permutation(list(train_data.keys())))\n",
        "train_ds = {key: train_data[key] for key in keys[:int(len(keys) * 0.8)]}\n",
        "valid_ds = {key: train_data[key] for key in keys[int(len(keys) * 0.8):]}\n",
        "\n",
        "train_loader = DataLoader(LibriSpeechDataset(train_ds), batch_size=1, shuffle=True)\n",
        "valid_loader = DataLoader(LibriSpeechDataset(valid_ds), batch_size=1, shuffle=True)"
      ],
      "metadata": {
        "id": "37J305tR1aiB"
      },
      "execution_count": 56,
      "outputs": []
    },
    {
      "cell_type": "markdown",
      "metadata": {
        "id": "GYuWfdVlVmro"
      },
      "source": [
        "## Lets benchmark WebRTC baseline\n"
      ]
    },
    {
      "cell_type": "code",
      "execution_count": 15,
      "metadata": {
        "id": "NnnplZuO1Q2G",
        "outputId": "1e4ecd34-062e-484f-ad38-07269d8f484b",
        "colab": {
          "base_uri": "https://localhost:8080/"
        }
      },
      "outputs": [
        {
          "output_type": "stream",
          "name": "stdout",
          "text": [
            "Collecting webrtcvad\n",
            "  Downloading webrtcvad-2.0.10.tar.gz (66 kB)\n",
            "\u001b[?25l\r\u001b[K     |█████                           | 10 kB 17.2 MB/s eta 0:00:01\r\u001b[K     |██████████                      | 20 kB 11.5 MB/s eta 0:00:01\r\u001b[K     |██████████████▉                 | 30 kB 9.4 MB/s eta 0:00:01\r\u001b[K     |███████████████████▉            | 40 kB 8.6 MB/s eta 0:00:01\r\u001b[K     |████████████████████████▊       | 51 kB 4.4 MB/s eta 0:00:01\r\u001b[K     |█████████████████████████████▊  | 61 kB 5.2 MB/s eta 0:00:01\r\u001b[K     |████████████████████████████████| 66 kB 2.6 MB/s \n",
            "\u001b[?25hBuilding wheels for collected packages: webrtcvad\n",
            "  Building wheel for webrtcvad (setup.py) ... \u001b[?25l\u001b[?25hdone\n",
            "  Created wheel for webrtcvad: filename=webrtcvad-2.0.10-cp37-cp37m-linux_x86_64.whl size=72416 sha256=dcd0a0ba0e75f62f4bcd0d80b6142346073907a6b52f0ff9b8a4a96e9e16ea1d\n",
            "  Stored in directory: /root/.cache/pip/wheels/11/f9/67/a3158d131f57e1c0a7d8d966a707d4a2fb27567a4fe47723ad\n",
            "Successfully built webrtcvad\n",
            "Installing collected packages: webrtcvad\n",
            "Successfully installed webrtcvad-2.0.10\n"
          ]
        }
      ],
      "source": [
        "# Downloading WebRTC VAD\n",
        "!pip install webrtcvad"
      ]
    },
    {
      "cell_type": "code",
      "source": [
        "item = next(iter(valid_loader))"
      ],
      "metadata": {
        "colab": {
          "base_uri": "https://localhost:8080/"
        },
        "id": "ngikt4WXK-6n",
        "outputId": "f9fce3c4-c9be-4199-adc4-53e6263d566f"
      },
      "execution_count": 30,
      "outputs": [
        {
          "output_type": "stream",
          "name": "stderr",
          "text": [
            "/usr/local/lib/python3.7/dist-packages/ipykernel_launcher.py:6: UserWarning: To copy construct from a tensor, it is recommended to use sourceTensor.clone().detach() or sourceTensor.clone().detach().requires_grad_(True), rather than torch.tensor(sourceTensor).\n",
            "  \n",
            "/usr/local/lib/python3.7/dist-packages/ipykernel_launcher.py:31: UserWarning: To copy construct from a tensor, it is recommended to use sourceTensor.clone().detach() or sourceTensor.clone().detach().requires_grad_(True), rather than torch.tensor(sourceTensor).\n",
            "/usr/local/lib/python3.7/dist-packages/ipykernel_launcher.py:35: UserWarning: To copy construct from a tensor, it is recommended to use sourceTensor.clone().detach() or sourceTensor.clone().detach().requires_grad_(True), rather than torch.tensor(sourceTensor).\n"
          ]
        }
      ]
    },
    {
      "cell_type": "code",
      "execution_count": 34,
      "metadata": {
        "id": "H8ZJWmslzIfL",
        "outputId": "9e7d8e3b-1b7b-42ad-8221-dd6298cc0a24",
        "colab": {
          "base_uri": "https://localhost:8080/",
          "height": 488
        }
      },
      "outputs": [
        {
          "output_type": "stream",
          "name": "stderr",
          "text": [
            "  0%|          | 0/5442 [00:00<?, ?it/s]/usr/local/lib/python3.7/dist-packages/ipykernel_launcher.py:6: UserWarning: To copy construct from a tensor, it is recommended to use sourceTensor.clone().detach() or sourceTensor.clone().detach().requires_grad_(True), rather than torch.tensor(sourceTensor).\n",
            "  \n",
            "/usr/local/lib/python3.7/dist-packages/ipykernel_launcher.py:31: UserWarning: To copy construct from a tensor, it is recommended to use sourceTensor.clone().detach() or sourceTensor.clone().detach().requires_grad_(True), rather than torch.tensor(sourceTensor).\n",
            "/usr/local/lib/python3.7/dist-packages/ipykernel_launcher.py:35: UserWarning: To copy construct from a tensor, it is recommended to use sourceTensor.clone().detach() or sourceTensor.clone().detach().requires_grad_(True), rather than torch.tensor(sourceTensor).\n",
            "  1%|          | 67/5442 [00:07<10:38,  8.42it/s]\n"
          ]
        },
        {
          "output_type": "error",
          "ename": "KeyboardInterrupt",
          "evalue": "ignored",
          "traceback": [
            "\u001b[0;31m---------------------------------------------------------------------------\u001b[0m",
            "\u001b[0;31mKeyboardInterrupt\u001b[0m                         Traceback (most recent call last)",
            "\u001b[0;32m<ipython-input-34-1c56a3f5de59>\u001b[0m in \u001b[0;36m<module>\u001b[0;34m()\u001b[0m\n\u001b[1;32m      4\u001b[0m \u001b[0;34m\u001b[0m\u001b[0m\n\u001b[1;32m      5\u001b[0m \u001b[0mwebrtcvad_score\u001b[0m \u001b[0;34m=\u001b[0m \u001b[0;34m[\u001b[0m\u001b[0;34m]\u001b[0m\u001b[0;34m\u001b[0m\u001b[0;34m\u001b[0m\u001b[0m\n\u001b[0;32m----> 6\u001b[0;31m \u001b[0;32mfor\u001b[0m \u001b[0mitem\u001b[0m \u001b[0;32min\u001b[0m \u001b[0mtqdm\u001b[0m\u001b[0;34m(\u001b[0m\u001b[0mvalid_loader\u001b[0m\u001b[0;34m)\u001b[0m\u001b[0;34m:\u001b[0m\u001b[0;34m\u001b[0m\u001b[0;34m\u001b[0m\u001b[0m\n\u001b[0m\u001b[1;32m      7\u001b[0m     \u001b[0minput\u001b[0m\u001b[0;34m,\u001b[0m \u001b[0mlabel\u001b[0m \u001b[0;34m=\u001b[0m \u001b[0mitem\u001b[0m\u001b[0;34m[\u001b[0m\u001b[0;34m'webrtc_input'\u001b[0m\u001b[0;34m]\u001b[0m\u001b[0;34m,\u001b[0m \u001b[0mitem\u001b[0m\u001b[0;34m[\u001b[0m\u001b[0;34m'label'\u001b[0m\u001b[0;34m]\u001b[0m\u001b[0;34m\u001b[0m\u001b[0;34m\u001b[0m\u001b[0m\n\u001b[1;32m      8\u001b[0m \u001b[0;34m\u001b[0m\u001b[0m\n",
            "\u001b[0;32m/usr/local/lib/python3.7/dist-packages/tqdm/std.py\u001b[0m in \u001b[0;36m__iter__\u001b[0;34m(self)\u001b[0m\n\u001b[1;32m   1178\u001b[0m \u001b[0;34m\u001b[0m\u001b[0m\n\u001b[1;32m   1179\u001b[0m         \u001b[0;32mtry\u001b[0m\u001b[0;34m:\u001b[0m\u001b[0;34m\u001b[0m\u001b[0;34m\u001b[0m\u001b[0m\n\u001b[0;32m-> 1180\u001b[0;31m             \u001b[0;32mfor\u001b[0m \u001b[0mobj\u001b[0m \u001b[0;32min\u001b[0m \u001b[0miterable\u001b[0m\u001b[0;34m:\u001b[0m\u001b[0;34m\u001b[0m\u001b[0;34m\u001b[0m\u001b[0m\n\u001b[0m\u001b[1;32m   1181\u001b[0m                 \u001b[0;32myield\u001b[0m \u001b[0mobj\u001b[0m\u001b[0;34m\u001b[0m\u001b[0;34m\u001b[0m\u001b[0m\n\u001b[1;32m   1182\u001b[0m                 \u001b[0;31m# Update and possibly print the progressbar.\u001b[0m\u001b[0;34m\u001b[0m\u001b[0;34m\u001b[0m\u001b[0;34m\u001b[0m\u001b[0m\n",
            "\u001b[0;32m/usr/local/lib/python3.7/dist-packages/torch/utils/data/dataloader.py\u001b[0m in \u001b[0;36m__next__\u001b[0;34m(self)\u001b[0m\n\u001b[1;32m    519\u001b[0m             \u001b[0;32mif\u001b[0m \u001b[0mself\u001b[0m\u001b[0;34m.\u001b[0m\u001b[0m_sampler_iter\u001b[0m \u001b[0;32mis\u001b[0m \u001b[0;32mNone\u001b[0m\u001b[0;34m:\u001b[0m\u001b[0;34m\u001b[0m\u001b[0;34m\u001b[0m\u001b[0m\n\u001b[1;32m    520\u001b[0m                 \u001b[0mself\u001b[0m\u001b[0;34m.\u001b[0m\u001b[0m_reset\u001b[0m\u001b[0;34m(\u001b[0m\u001b[0;34m)\u001b[0m\u001b[0;34m\u001b[0m\u001b[0;34m\u001b[0m\u001b[0m\n\u001b[0;32m--> 521\u001b[0;31m             \u001b[0mdata\u001b[0m \u001b[0;34m=\u001b[0m \u001b[0mself\u001b[0m\u001b[0;34m.\u001b[0m\u001b[0m_next_data\u001b[0m\u001b[0;34m(\u001b[0m\u001b[0;34m)\u001b[0m\u001b[0;34m\u001b[0m\u001b[0;34m\u001b[0m\u001b[0m\n\u001b[0m\u001b[1;32m    522\u001b[0m             \u001b[0mself\u001b[0m\u001b[0;34m.\u001b[0m\u001b[0m_num_yielded\u001b[0m \u001b[0;34m+=\u001b[0m \u001b[0;36m1\u001b[0m\u001b[0;34m\u001b[0m\u001b[0;34m\u001b[0m\u001b[0m\n\u001b[1;32m    523\u001b[0m             \u001b[0;32mif\u001b[0m \u001b[0mself\u001b[0m\u001b[0;34m.\u001b[0m\u001b[0m_dataset_kind\u001b[0m \u001b[0;34m==\u001b[0m \u001b[0m_DatasetKind\u001b[0m\u001b[0;34m.\u001b[0m\u001b[0mIterable\u001b[0m \u001b[0;32mand\u001b[0m\u001b[0;31m \u001b[0m\u001b[0;31m\\\u001b[0m\u001b[0;34m\u001b[0m\u001b[0;34m\u001b[0m\u001b[0m\n",
            "\u001b[0;32m/usr/local/lib/python3.7/dist-packages/torch/utils/data/dataloader.py\u001b[0m in \u001b[0;36m_next_data\u001b[0;34m(self)\u001b[0m\n\u001b[1;32m    560\u001b[0m         \u001b[0mindex\u001b[0m \u001b[0;34m=\u001b[0m \u001b[0mself\u001b[0m\u001b[0;34m.\u001b[0m\u001b[0m_next_index\u001b[0m\u001b[0;34m(\u001b[0m\u001b[0;34m)\u001b[0m  \u001b[0;31m# may raise StopIteration\u001b[0m\u001b[0;34m\u001b[0m\u001b[0;34m\u001b[0m\u001b[0m\n\u001b[1;32m    561\u001b[0m         \u001b[0mdata\u001b[0m \u001b[0;34m=\u001b[0m \u001b[0mself\u001b[0m\u001b[0;34m.\u001b[0m\u001b[0m_dataset_fetcher\u001b[0m\u001b[0;34m.\u001b[0m\u001b[0mfetch\u001b[0m\u001b[0;34m(\u001b[0m\u001b[0mindex\u001b[0m\u001b[0;34m)\u001b[0m  \u001b[0;31m# may raise StopIteration\u001b[0m\u001b[0;34m\u001b[0m\u001b[0;34m\u001b[0m\u001b[0m\n\u001b[0;32m--> 562\u001b[0;31m         \u001b[0;32mif\u001b[0m \u001b[0mself\u001b[0m\u001b[0;34m.\u001b[0m\u001b[0m_pin_memory\u001b[0m\u001b[0;34m:\u001b[0m\u001b[0;34m\u001b[0m\u001b[0;34m\u001b[0m\u001b[0m\n\u001b[0m\u001b[1;32m    563\u001b[0m             \u001b[0mdata\u001b[0m \u001b[0;34m=\u001b[0m \u001b[0m_utils\u001b[0m\u001b[0;34m.\u001b[0m\u001b[0mpin_memory\u001b[0m\u001b[0;34m.\u001b[0m\u001b[0mpin_memory\u001b[0m\u001b[0;34m(\u001b[0m\u001b[0mdata\u001b[0m\u001b[0;34m)\u001b[0m\u001b[0;34m\u001b[0m\u001b[0;34m\u001b[0m\u001b[0m\n\u001b[1;32m    564\u001b[0m         \u001b[0;32mreturn\u001b[0m \u001b[0mdata\u001b[0m\u001b[0;34m\u001b[0m\u001b[0;34m\u001b[0m\u001b[0m\n",
            "\u001b[0;31mKeyboardInterrupt\u001b[0m: "
          ]
        }
      ],
      "source": [
        "import webrtcvad\n",
        "webrtc_vad = webrtcvad.Vad()\n",
        "webrtc_vad.set_mode(2)\n",
        "\n",
        "webrtcvad_score = []\n",
        "for item in tqdm(valid_loader):\n",
        "    input, label = item['webrtc_input'], item['label']\n",
        "\n",
        "    # webrtc progresbars can be annoying at times so lets wrap them with no output context manager\n",
        "    with io.capture_output() as captured:\n",
        "        preds = [webrtc_vad.is_speech(chunk[0], sample_rate) for chunk in tqdm(input)]\n",
        "\n",
        "    webrtcvad_score.append(torch.sum((label == torch.tensor(preds, dtype=torch.int16)))/ len(label))"
      ]
    },
    {
      "cell_type": "code",
      "execution_count": null,
      "metadata": {
        "id": "GZGWy_Fl1Q2H",
        "outputId": "2be87881-6d29-462f-f2fa-91d635154087"
      },
      "outputs": [
        {
          "data": {
            "text/plain": [
              "0.92463505"
            ]
          },
          "execution_count": 15,
          "metadata": {},
          "output_type": "execute_result"
        }
      ],
      "source": [
        "np.mean(webrtcvad_score)"
      ]
    },
    {
      "cell_type": "markdown",
      "metadata": {
        "id": "yDEXk8FO1Q2H"
      },
      "source": [
        "## And Hidden Markov Model-based solution"
      ]
    },
    {
      "cell_type": "code",
      "execution_count": null,
      "metadata": {
        "id": "99OAjARk1Q2H"
      },
      "outputs": [],
      "source": [
        "# Downloading HMM VAD\n",
        "!git clone https://github.com/eesungkim/Voice_Activity_Detector "
      ]
    },
    {
      "cell_type": "code",
      "execution_count": null,
      "metadata": {
        "id": "mOxmtyGn1Q2H"
      },
      "outputs": [],
      "source": [
        "import sys\n",
        "sys.path.insert(0, '/home/irkstell/Desktop/VKLab/Voice_Activity_Detector')"
      ]
    },
    {
      "cell_type": "code",
      "execution_count": null,
      "metadata": {
        "id": "ohWnIXNI1Q2H",
        "outputId": "1747bdae-e3a5-4db9-b029-513eebeef498"
      },
      "outputs": [
        {
          "name": "stderr",
          "output_type": "stream",
          "text": [
            "  0%|                                                                                             | 0/28535 [00:00<?, ?it/s]/home/irkstell/.local/lib/python3.7/site-packages/ipykernel_launcher.py:10: UserWarning: To copy construct from a tensor, it is recommended to use sourceTensor.clone().detach() or sourceTensor.clone().detach().requires_grad_(True), rather than torch.tensor(sourceTensor).\n",
            "  # Remove the CWD from sys.path while we load stuff.\n",
            "  2%|█▍                                                                               | 488/28535 [07:40<9:20:05,  1.20s/it]/home/irkstell/Desktop/VKLab/Voice_Activity_Detector/utils/estnoise_ms.py:99: RuntimeWarning: divide by zero encountered in double_scalars\n",
            "  acb=(1+(sum(p) / sum(pSpectrum_t)-1)**2)**(-1)    # alpha_c-bar(t)  (9)\n",
            "  2%|█▍                                                                               | 497/28535 [07:49<8:26:37,  1.08s/it]/home/irkstell/Desktop/VKLab/Voice_Activity_Detector/utils/estnoise_ms.py:99: RuntimeWarning: invalid value encountered in double_scalars\n",
            "  acb=(1+(sum(p) / sum(pSpectrum_t)-1)**2)**(-1)    # alpha_c-bar(t)  (9)\n",
            "/home/irkstell/Desktop/VKLab/Voice_Activity_Detector/utils/estnoise_ms.py:107: RuntimeWarning: invalid value encountered in true_divide\n",
            "  ah=amax*ac*(1+(p/sn2-1)**2)**(-1)       # alpha_hat: smoothing factor per frequency (11)\n",
            "/home/irkstell/Desktop/VKLab/Voice_Activity_Detector/utils/estnoise_ms.py:108: RuntimeWarning: invalid value encountered in double_scalars\n",
            "  SNR=sum(p)/sum(sn2)\n",
            "/home/irkstell/Desktop/VKLab/Voice_Activity_Detector/vad.py:43: RuntimeWarning: invalid value encountered in true_divide\n",
            "  aPosterioriSNR=pSpectrum/estNoise\n",
            " 10%|████████▏                                                                       | 2900/28535 [50:10<6:33:33,  1.09it/s]/home/irkstell/Desktop/VKLab/Voice_Activity_Detector/vad.py:43: RuntimeWarning: divide by zero encountered in true_divide\n",
            "  aPosterioriSNR=pSpectrum/estNoise\n",
            " 33%|█████████████████████████▋                                                    | 9388/28535 [2:43:27<5:38:12,  1.06s/it]IOPub message rate exceeded.\n",
            "The notebook server will temporarily stop sending output\n",
            "to the client in order to avoid crashing it.\n",
            "To change this limit, set the config variable\n",
            "`--NotebookApp.iopub_msg_rate_limit`.\n",
            "\n",
            "Current values:\n",
            "NotebookApp.iopub_msg_rate_limit=1000.0 (msgs/sec)\n",
            "NotebookApp.rate_limit_window=3.0 (secs)\n",
            "\n",
            " 69%|█████████████████████████████████████████████████████▏                       | 19699/28535 [5:29:27<2:04:02,  1.19it/s]IOPub message rate exceeded.\n",
            "The notebook server will temporarily stop sending output\n",
            "to the client in order to avoid crashing it.\n",
            "To change this limit, set the config variable\n",
            "`--NotebookApp.iopub_msg_rate_limit`.\n",
            "\n",
            "Current values:\n",
            "NotebookApp.iopub_msg_rate_limit=1000.0 (msgs/sec)\n",
            "NotebookApp.rate_limit_window=3.0 (secs)\n",
            "\n",
            "100%|███████████████████████████████████████████████████████████████████████████████| 28535/28535 [7:51:37<00:00,  1.01it/s]\n"
          ]
        }
      ],
      "source": [
        "from vad import VAD as hmm_vad\n",
        "\n",
        "hmm_score = []\n",
        "for item in tqdm(valid_loader):\n",
        "    input = item['hmm_input'].squeeze()\n",
        "    label = item['label'].squeeze()\n",
        "    preds = hmm_vad(input.squeeze().numpy(), sample_rate)\n",
        "    preds = torch.tensor([_[0] for _ in preds])\n",
        "    label = label[:len(preds)] # for some reason the model has some issues with being a bit shorter than length of labels so i am using cheats to compare it. I consider it fine for not the final model.\n",
        "    hmm_score.append(torch.sum((label == torch.tensor(preds, dtype=torch.int16))) / len(label))"
      ]
    },
    {
      "cell_type": "markdown",
      "source": [
        "## My model"
      ],
      "metadata": {
        "id": "hoIPUna92BXg"
      }
    },
    {
      "cell_type": "code",
      "source": [
        "import torch.nn as nn\n",
        "import torch.nn.functional as F\n",
        "\n",
        "class VAD_model(nn.Module):\n",
        "    def __init__(self):\n",
        "        super(VAD_model, self).__init__()\n",
        "        self.hidden_dim = 256\n",
        "        self.lstm = nn.LSTM(2400, 1024)\n",
        "        self.classifier = nn.Sequential(\n",
        "            nn.Linear(2048, 512),\n",
        "            nn.ReLU(inplace=True),\n",
        "            nn.Linear(512, 2)\n",
        "        )\n",
        "\n",
        "    def forward(self, batch):\n",
        "        lstm_out, (hidden_states, _) = self.lstm(batch)\n",
        "        input = torch.cat([lstm_out.squeeze(0), hidden_states.squeeze(0)], dim=-1)\n",
        "        pred = self.classifier(input)\n",
        "        return pred\n",
        "\n",
        "# rnn_vad = VAD_model().cuda()"
      ],
      "metadata": {
        "id": "DpIK3TTb3M1j"
      },
      "execution_count": 35,
      "outputs": []
    },
    {
      "cell_type": "code",
      "source": [
        "!mkdir weights"
      ],
      "metadata": {
        "id": "2MxW7aRYL9dE"
      },
      "execution_count": 42,
      "outputs": []
    },
    {
      "cell_type": "code",
      "source": [
        "import torch.optim as optim\n",
        "loss_fn = nn.CrossEntropyLoss()\n",
        "optimizer = optim.Adam(rnn_vad.parameters(), lr=0.03)\n",
        "N_EPOCHS = 65\n",
        "rnn_vad.train()\n",
        "\n",
        "for epoch in range(N_EPOCHS):\n",
        "    for batch in tqdm(train_loader):\n",
        "        rnn_vad.zero_grad()\n",
        "        \n",
        "        probs = rnn_vad(batch['model_input'].cuda())\n",
        "        loss = loss_fn(probs, batch['label'].squeeze().cuda())\n",
        "        loss.backward()\n",
        "        optimizer.step()\n",
        "        \n",
        "    torch.save(rnn_vad.state_dict(), f'weights/{epoch}')"
      ],
      "metadata": {
        "id": "mKujpSQm1_up",
        "colab": {
          "base_uri": "https://localhost:8080/"
        },
        "outputId": "859bd5d6-3186-483a-997d-b53f8071f4f5"
      },
      "execution_count": null,
      "outputs": [
        {
          "output_type": "stream",
          "name": "stderr",
          "text": [
            "  0%|          | 0/23380 [00:00<?, ?it/s]/usr/local/lib/python3.7/dist-packages/ipykernel_launcher.py:6: UserWarning: To copy construct from a tensor, it is recommended to use sourceTensor.clone().detach() or sourceTensor.clone().detach().requires_grad_(True), rather than torch.tensor(sourceTensor).\n",
            "  \n",
            "/usr/local/lib/python3.7/dist-packages/ipykernel_launcher.py:31: UserWarning: To copy construct from a tensor, it is recommended to use sourceTensor.clone().detach() or sourceTensor.clone().detach().requires_grad_(True), rather than torch.tensor(sourceTensor).\n",
            "/usr/local/lib/python3.7/dist-packages/ipykernel_launcher.py:35: UserWarning: To copy construct from a tensor, it is recommended to use sourceTensor.clone().detach() or sourceTensor.clone().detach().requires_grad_(True), rather than torch.tensor(sourceTensor).\n",
            " 44%|████▎     | 10212/23380 [16:48<19:48, 11.08it/s]"
          ]
        }
      ]
    },
    {
      "cell_type": "code",
      "source": [
        "torch.save(rnn_vad.state_dict(), f'weights/{epoch}')"
      ],
      "metadata": {
        "id": "NggU-EMSVa09"
      },
      "execution_count": 59,
      "outputs": []
    },
    {
      "cell_type": "code",
      "source": [
        "scores = []\n",
        "\n",
        "rnn_vad.eval()\n",
        "\n",
        "for batch in tqdm(valid_loader):\n",
        "    with torch.no_grad():\n",
        "        probs = rnn_vad(batch['model_input'].cuda())\n",
        "        preds = torch.argmax(probs, dim=1)\n",
        "        score = torch.sum(preds == batch['label'].cuda())/len(preds)\n",
        "        scores.append(score)"
      ],
      "metadata": {
        "id": "1cVNvWP73hs4",
        "colab": {
          "base_uri": "https://localhost:8080/"
        },
        "outputId": "b7903734-3040-438c-9497-45c934fa5f97"
      },
      "execution_count": 52,
      "outputs": [
        {
          "output_type": "stream",
          "name": "stderr",
          "text": [
            "\r  0%|          | 0/911 [00:00<?, ?it/s]/usr/local/lib/python3.7/dist-packages/ipykernel_launcher.py:6: UserWarning: To copy construct from a tensor, it is recommended to use sourceTensor.clone().detach() or sourceTensor.clone().detach().requires_grad_(True), rather than torch.tensor(sourceTensor).\n",
            "  \n",
            "/usr/local/lib/python3.7/dist-packages/ipykernel_launcher.py:31: UserWarning: To copy construct from a tensor, it is recommended to use sourceTensor.clone().detach() or sourceTensor.clone().detach().requires_grad_(True), rather than torch.tensor(sourceTensor).\n",
            "/usr/local/lib/python3.7/dist-packages/ipykernel_launcher.py:35: UserWarning: To copy construct from a tensor, it is recommended to use sourceTensor.clone().detach() or sourceTensor.clone().detach().requires_grad_(True), rather than torch.tensor(sourceTensor).\n",
            "100%|██████████| 911/911 [01:33<00:00,  9.77it/s]\n"
          ]
        }
      ]
    }
  ],
  "metadata": {
    "colab": {
      "collapsed_sections": [],
      "name": "vad.ipynb",
      "provenance": []
    },
    "kernelspec": {
      "display_name": "Python 3 (ipykernel)",
      "language": "python",
      "name": "python3"
    },
    "language_info": {
      "codemirror_mode": {
        "name": "ipython",
        "version": 3
      },
      "file_extension": ".py",
      "mimetype": "text/x-python",
      "name": "python",
      "nbconvert_exporter": "python",
      "pygments_lexer": "ipython3",
      "version": "3.7.3"
    },
    "accelerator": "GPU"
  },
  "nbformat": 4,
  "nbformat_minor": 0
}